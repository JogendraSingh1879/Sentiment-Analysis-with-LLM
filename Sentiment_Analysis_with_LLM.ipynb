{
  "nbformat": 4,
  "nbformat_minor": 0,
  "metadata": {
    "colab": {
      "provenance": []
    },
    "kernelspec": {
      "name": "python3",
      "display_name": "Python 3"
    },
    "language_info": {
      "name": "python"
    },
    "widgets": {
      "application/vnd.jupyter.widget-state+json": {
        "2bac326829424135be9beecb2f74582d": {
          "model_module": "@jupyter-widgets/controls",
          "model_name": "HBoxModel",
          "model_module_version": "1.5.0",
          "state": {
            "_dom_classes": [],
            "_model_module": "@jupyter-widgets/controls",
            "_model_module_version": "1.5.0",
            "_model_name": "HBoxModel",
            "_view_count": null,
            "_view_module": "@jupyter-widgets/controls",
            "_view_module_version": "1.5.0",
            "_view_name": "HBoxView",
            "box_style": "",
            "children": [
              "IPY_MODEL_382931255b3b4c29be8434dcb1294bcc",
              "IPY_MODEL_cb3442fbf63c480fac66b227a5985799",
              "IPY_MODEL_8469ce1dbfa748e9809523ff3ea640f1"
            ],
            "layout": "IPY_MODEL_8a33b13d57124657bbacd7d9ba4ee111"
          }
        },
        "382931255b3b4c29be8434dcb1294bcc": {
          "model_module": "@jupyter-widgets/controls",
          "model_name": "HTMLModel",
          "model_module_version": "1.5.0",
          "state": {
            "_dom_classes": [],
            "_model_module": "@jupyter-widgets/controls",
            "_model_module_version": "1.5.0",
            "_model_name": "HTMLModel",
            "_view_count": null,
            "_view_module": "@jupyter-widgets/controls",
            "_view_module_version": "1.5.0",
            "_view_name": "HTMLView",
            "description": "",
            "description_tooltip": null,
            "layout": "IPY_MODEL_c3aaf9048b1849daafbc7faca76aba1f",
            "placeholder": "​",
            "style": "IPY_MODEL_01dd7a017b3141b8ac3e590fb5e3cea3",
            "value": "vocab.txt: 100%"
          }
        },
        "cb3442fbf63c480fac66b227a5985799": {
          "model_module": "@jupyter-widgets/controls",
          "model_name": "FloatProgressModel",
          "model_module_version": "1.5.0",
          "state": {
            "_dom_classes": [],
            "_model_module": "@jupyter-widgets/controls",
            "_model_module_version": "1.5.0",
            "_model_name": "FloatProgressModel",
            "_view_count": null,
            "_view_module": "@jupyter-widgets/controls",
            "_view_module_version": "1.5.0",
            "_view_name": "ProgressView",
            "bar_style": "success",
            "description": "",
            "description_tooltip": null,
            "layout": "IPY_MODEL_5ab362c8ee9a46798cb475d4cb2edf44",
            "max": 226122,
            "min": 0,
            "orientation": "horizontal",
            "style": "IPY_MODEL_c13d8e76fa514e9fb25076f6e6152f39",
            "value": 226122
          }
        },
        "8469ce1dbfa748e9809523ff3ea640f1": {
          "model_module": "@jupyter-widgets/controls",
          "model_name": "HTMLModel",
          "model_module_version": "1.5.0",
          "state": {
            "_dom_classes": [],
            "_model_module": "@jupyter-widgets/controls",
            "_model_module_version": "1.5.0",
            "_model_name": "HTMLModel",
            "_view_count": null,
            "_view_module": "@jupyter-widgets/controls",
            "_view_module_version": "1.5.0",
            "_view_name": "HTMLView",
            "description": "",
            "description_tooltip": null,
            "layout": "IPY_MODEL_e43ab619b8a74338a5eb8036a7863438",
            "placeholder": "​",
            "style": "IPY_MODEL_e85fce2be49744a2999c79cd2e376171",
            "value": " 226k/226k [00:00&lt;00:00, 2.93MB/s]"
          }
        },
        "8a33b13d57124657bbacd7d9ba4ee111": {
          "model_module": "@jupyter-widgets/base",
          "model_name": "LayoutModel",
          "model_module_version": "1.2.0",
          "state": {
            "_model_module": "@jupyter-widgets/base",
            "_model_module_version": "1.2.0",
            "_model_name": "LayoutModel",
            "_view_count": null,
            "_view_module": "@jupyter-widgets/base",
            "_view_module_version": "1.2.0",
            "_view_name": "LayoutView",
            "align_content": null,
            "align_items": null,
            "align_self": null,
            "border": null,
            "bottom": null,
            "display": null,
            "flex": null,
            "flex_flow": null,
            "grid_area": null,
            "grid_auto_columns": null,
            "grid_auto_flow": null,
            "grid_auto_rows": null,
            "grid_column": null,
            "grid_gap": null,
            "grid_row": null,
            "grid_template_areas": null,
            "grid_template_columns": null,
            "grid_template_rows": null,
            "height": null,
            "justify_content": null,
            "justify_items": null,
            "left": null,
            "margin": null,
            "max_height": null,
            "max_width": null,
            "min_height": null,
            "min_width": null,
            "object_fit": null,
            "object_position": null,
            "order": null,
            "overflow": null,
            "overflow_x": null,
            "overflow_y": null,
            "padding": null,
            "right": null,
            "top": null,
            "visibility": null,
            "width": null
          }
        },
        "c3aaf9048b1849daafbc7faca76aba1f": {
          "model_module": "@jupyter-widgets/base",
          "model_name": "LayoutModel",
          "model_module_version": "1.2.0",
          "state": {
            "_model_module": "@jupyter-widgets/base",
            "_model_module_version": "1.2.0",
            "_model_name": "LayoutModel",
            "_view_count": null,
            "_view_module": "@jupyter-widgets/base",
            "_view_module_version": "1.2.0",
            "_view_name": "LayoutView",
            "align_content": null,
            "align_items": null,
            "align_self": null,
            "border": null,
            "bottom": null,
            "display": null,
            "flex": null,
            "flex_flow": null,
            "grid_area": null,
            "grid_auto_columns": null,
            "grid_auto_flow": null,
            "grid_auto_rows": null,
            "grid_column": null,
            "grid_gap": null,
            "grid_row": null,
            "grid_template_areas": null,
            "grid_template_columns": null,
            "grid_template_rows": null,
            "height": null,
            "justify_content": null,
            "justify_items": null,
            "left": null,
            "margin": null,
            "max_height": null,
            "max_width": null,
            "min_height": null,
            "min_width": null,
            "object_fit": null,
            "object_position": null,
            "order": null,
            "overflow": null,
            "overflow_x": null,
            "overflow_y": null,
            "padding": null,
            "right": null,
            "top": null,
            "visibility": null,
            "width": null
          }
        },
        "01dd7a017b3141b8ac3e590fb5e3cea3": {
          "model_module": "@jupyter-widgets/controls",
          "model_name": "DescriptionStyleModel",
          "model_module_version": "1.5.0",
          "state": {
            "_model_module": "@jupyter-widgets/controls",
            "_model_module_version": "1.5.0",
            "_model_name": "DescriptionStyleModel",
            "_view_count": null,
            "_view_module": "@jupyter-widgets/base",
            "_view_module_version": "1.2.0",
            "_view_name": "StyleView",
            "description_width": ""
          }
        },
        "5ab362c8ee9a46798cb475d4cb2edf44": {
          "model_module": "@jupyter-widgets/base",
          "model_name": "LayoutModel",
          "model_module_version": "1.2.0",
          "state": {
            "_model_module": "@jupyter-widgets/base",
            "_model_module_version": "1.2.0",
            "_model_name": "LayoutModel",
            "_view_count": null,
            "_view_module": "@jupyter-widgets/base",
            "_view_module_version": "1.2.0",
            "_view_name": "LayoutView",
            "align_content": null,
            "align_items": null,
            "align_self": null,
            "border": null,
            "bottom": null,
            "display": null,
            "flex": null,
            "flex_flow": null,
            "grid_area": null,
            "grid_auto_columns": null,
            "grid_auto_flow": null,
            "grid_auto_rows": null,
            "grid_column": null,
            "grid_gap": null,
            "grid_row": null,
            "grid_template_areas": null,
            "grid_template_columns": null,
            "grid_template_rows": null,
            "height": null,
            "justify_content": null,
            "justify_items": null,
            "left": null,
            "margin": null,
            "max_height": null,
            "max_width": null,
            "min_height": null,
            "min_width": null,
            "object_fit": null,
            "object_position": null,
            "order": null,
            "overflow": null,
            "overflow_x": null,
            "overflow_y": null,
            "padding": null,
            "right": null,
            "top": null,
            "visibility": null,
            "width": null
          }
        },
        "c13d8e76fa514e9fb25076f6e6152f39": {
          "model_module": "@jupyter-widgets/controls",
          "model_name": "ProgressStyleModel",
          "model_module_version": "1.5.0",
          "state": {
            "_model_module": "@jupyter-widgets/controls",
            "_model_module_version": "1.5.0",
            "_model_name": "ProgressStyleModel",
            "_view_count": null,
            "_view_module": "@jupyter-widgets/base",
            "_view_module_version": "1.2.0",
            "_view_name": "StyleView",
            "bar_color": null,
            "description_width": ""
          }
        },
        "e43ab619b8a74338a5eb8036a7863438": {
          "model_module": "@jupyter-widgets/base",
          "model_name": "LayoutModel",
          "model_module_version": "1.2.0",
          "state": {
            "_model_module": "@jupyter-widgets/base",
            "_model_module_version": "1.2.0",
            "_model_name": "LayoutModel",
            "_view_count": null,
            "_view_module": "@jupyter-widgets/base",
            "_view_module_version": "1.2.0",
            "_view_name": "LayoutView",
            "align_content": null,
            "align_items": null,
            "align_self": null,
            "border": null,
            "bottom": null,
            "display": null,
            "flex": null,
            "flex_flow": null,
            "grid_area": null,
            "grid_auto_columns": null,
            "grid_auto_flow": null,
            "grid_auto_rows": null,
            "grid_column": null,
            "grid_gap": null,
            "grid_row": null,
            "grid_template_areas": null,
            "grid_template_columns": null,
            "grid_template_rows": null,
            "height": null,
            "justify_content": null,
            "justify_items": null,
            "left": null,
            "margin": null,
            "max_height": null,
            "max_width": null,
            "min_height": null,
            "min_width": null,
            "object_fit": null,
            "object_position": null,
            "order": null,
            "overflow": null,
            "overflow_x": null,
            "overflow_y": null,
            "padding": null,
            "right": null,
            "top": null,
            "visibility": null,
            "width": null
          }
        },
        "e85fce2be49744a2999c79cd2e376171": {
          "model_module": "@jupyter-widgets/controls",
          "model_name": "DescriptionStyleModel",
          "model_module_version": "1.5.0",
          "state": {
            "_model_module": "@jupyter-widgets/controls",
            "_model_module_version": "1.5.0",
            "_model_name": "DescriptionStyleModel",
            "_view_count": null,
            "_view_module": "@jupyter-widgets/base",
            "_view_module_version": "1.2.0",
            "_view_name": "StyleView",
            "description_width": ""
          }
        },
        "7314c4875df84b63b839eab5725a021a": {
          "model_module": "@jupyter-widgets/controls",
          "model_name": "HBoxModel",
          "model_module_version": "1.5.0",
          "state": {
            "_dom_classes": [],
            "_model_module": "@jupyter-widgets/controls",
            "_model_module_version": "1.5.0",
            "_model_name": "HBoxModel",
            "_view_count": null,
            "_view_module": "@jupyter-widgets/controls",
            "_view_module_version": "1.5.0",
            "_view_name": "HBoxView",
            "box_style": "",
            "children": [
              "IPY_MODEL_b32f831a42654be191374ab0327ed2ba",
              "IPY_MODEL_16e4125a62bf47b5815963598a071b85",
              "IPY_MODEL_39f6e77746484ec09a5e259931e6e3d8"
            ],
            "layout": "IPY_MODEL_9bb73559e3f0441dacdbec6a2ada80e9"
          }
        },
        "b32f831a42654be191374ab0327ed2ba": {
          "model_module": "@jupyter-widgets/controls",
          "model_name": "HTMLModel",
          "model_module_version": "1.5.0",
          "state": {
            "_dom_classes": [],
            "_model_module": "@jupyter-widgets/controls",
            "_model_module_version": "1.5.0",
            "_model_name": "HTMLModel",
            "_view_count": null,
            "_view_module": "@jupyter-widgets/controls",
            "_view_module_version": "1.5.0",
            "_view_name": "HTMLView",
            "description": "",
            "description_tooltip": null,
            "layout": "IPY_MODEL_1a9ca3b194a441fea08211b49964bfe9",
            "placeholder": "​",
            "style": "IPY_MODEL_676a5844a67445d8b2b0f0971bc1e898",
            "value": "config.json: 100%"
          }
        },
        "16e4125a62bf47b5815963598a071b85": {
          "model_module": "@jupyter-widgets/controls",
          "model_name": "FloatProgressModel",
          "model_module_version": "1.5.0",
          "state": {
            "_dom_classes": [],
            "_model_module": "@jupyter-widgets/controls",
            "_model_module_version": "1.5.0",
            "_model_name": "FloatProgressModel",
            "_view_count": null,
            "_view_module": "@jupyter-widgets/controls",
            "_view_module_version": "1.5.0",
            "_view_name": "ProgressView",
            "bar_style": "success",
            "description": "",
            "description_tooltip": null,
            "layout": "IPY_MODEL_55da95ef6a5b4eb39e793e4ca1fc0bc0",
            "max": 533,
            "min": 0,
            "orientation": "horizontal",
            "style": "IPY_MODEL_4880bd6d866c4ffabc0d0bb858d38809",
            "value": 533
          }
        },
        "39f6e77746484ec09a5e259931e6e3d8": {
          "model_module": "@jupyter-widgets/controls",
          "model_name": "HTMLModel",
          "model_module_version": "1.5.0",
          "state": {
            "_dom_classes": [],
            "_model_module": "@jupyter-widgets/controls",
            "_model_module_version": "1.5.0",
            "_model_name": "HTMLModel",
            "_view_count": null,
            "_view_module": "@jupyter-widgets/controls",
            "_view_module_version": "1.5.0",
            "_view_name": "HTMLView",
            "description": "",
            "description_tooltip": null,
            "layout": "IPY_MODEL_cede76cee7264427b3a9256eeac7f786",
            "placeholder": "​",
            "style": "IPY_MODEL_db471c9cbef84bdf8c99f748129fbb2e",
            "value": " 533/533 [00:00&lt;00:00, 22.6kB/s]"
          }
        },
        "9bb73559e3f0441dacdbec6a2ada80e9": {
          "model_module": "@jupyter-widgets/base",
          "model_name": "LayoutModel",
          "model_module_version": "1.2.0",
          "state": {
            "_model_module": "@jupyter-widgets/base",
            "_model_module_version": "1.2.0",
            "_model_name": "LayoutModel",
            "_view_count": null,
            "_view_module": "@jupyter-widgets/base",
            "_view_module_version": "1.2.0",
            "_view_name": "LayoutView",
            "align_content": null,
            "align_items": null,
            "align_self": null,
            "border": null,
            "bottom": null,
            "display": null,
            "flex": null,
            "flex_flow": null,
            "grid_area": null,
            "grid_auto_columns": null,
            "grid_auto_flow": null,
            "grid_auto_rows": null,
            "grid_column": null,
            "grid_gap": null,
            "grid_row": null,
            "grid_template_areas": null,
            "grid_template_columns": null,
            "grid_template_rows": null,
            "height": null,
            "justify_content": null,
            "justify_items": null,
            "left": null,
            "margin": null,
            "max_height": null,
            "max_width": null,
            "min_height": null,
            "min_width": null,
            "object_fit": null,
            "object_position": null,
            "order": null,
            "overflow": null,
            "overflow_x": null,
            "overflow_y": null,
            "padding": null,
            "right": null,
            "top": null,
            "visibility": null,
            "width": null
          }
        },
        "1a9ca3b194a441fea08211b49964bfe9": {
          "model_module": "@jupyter-widgets/base",
          "model_name": "LayoutModel",
          "model_module_version": "1.2.0",
          "state": {
            "_model_module": "@jupyter-widgets/base",
            "_model_module_version": "1.2.0",
            "_model_name": "LayoutModel",
            "_view_count": null,
            "_view_module": "@jupyter-widgets/base",
            "_view_module_version": "1.2.0",
            "_view_name": "LayoutView",
            "align_content": null,
            "align_items": null,
            "align_self": null,
            "border": null,
            "bottom": null,
            "display": null,
            "flex": null,
            "flex_flow": null,
            "grid_area": null,
            "grid_auto_columns": null,
            "grid_auto_flow": null,
            "grid_auto_rows": null,
            "grid_column": null,
            "grid_gap": null,
            "grid_row": null,
            "grid_template_areas": null,
            "grid_template_columns": null,
            "grid_template_rows": null,
            "height": null,
            "justify_content": null,
            "justify_items": null,
            "left": null,
            "margin": null,
            "max_height": null,
            "max_width": null,
            "min_height": null,
            "min_width": null,
            "object_fit": null,
            "object_position": null,
            "order": null,
            "overflow": null,
            "overflow_x": null,
            "overflow_y": null,
            "padding": null,
            "right": null,
            "top": null,
            "visibility": null,
            "width": null
          }
        },
        "676a5844a67445d8b2b0f0971bc1e898": {
          "model_module": "@jupyter-widgets/controls",
          "model_name": "DescriptionStyleModel",
          "model_module_version": "1.5.0",
          "state": {
            "_model_module": "@jupyter-widgets/controls",
            "_model_module_version": "1.5.0",
            "_model_name": "DescriptionStyleModel",
            "_view_count": null,
            "_view_module": "@jupyter-widgets/base",
            "_view_module_version": "1.2.0",
            "_view_name": "StyleView",
            "description_width": ""
          }
        },
        "55da95ef6a5b4eb39e793e4ca1fc0bc0": {
          "model_module": "@jupyter-widgets/base",
          "model_name": "LayoutModel",
          "model_module_version": "1.2.0",
          "state": {
            "_model_module": "@jupyter-widgets/base",
            "_model_module_version": "1.2.0",
            "_model_name": "LayoutModel",
            "_view_count": null,
            "_view_module": "@jupyter-widgets/base",
            "_view_module_version": "1.2.0",
            "_view_name": "LayoutView",
            "align_content": null,
            "align_items": null,
            "align_self": null,
            "border": null,
            "bottom": null,
            "display": null,
            "flex": null,
            "flex_flow": null,
            "grid_area": null,
            "grid_auto_columns": null,
            "grid_auto_flow": null,
            "grid_auto_rows": null,
            "grid_column": null,
            "grid_gap": null,
            "grid_row": null,
            "grid_template_areas": null,
            "grid_template_columns": null,
            "grid_template_rows": null,
            "height": null,
            "justify_content": null,
            "justify_items": null,
            "left": null,
            "margin": null,
            "max_height": null,
            "max_width": null,
            "min_height": null,
            "min_width": null,
            "object_fit": null,
            "object_position": null,
            "order": null,
            "overflow": null,
            "overflow_x": null,
            "overflow_y": null,
            "padding": null,
            "right": null,
            "top": null,
            "visibility": null,
            "width": null
          }
        },
        "4880bd6d866c4ffabc0d0bb858d38809": {
          "model_module": "@jupyter-widgets/controls",
          "model_name": "ProgressStyleModel",
          "model_module_version": "1.5.0",
          "state": {
            "_model_module": "@jupyter-widgets/controls",
            "_model_module_version": "1.5.0",
            "_model_name": "ProgressStyleModel",
            "_view_count": null,
            "_view_module": "@jupyter-widgets/base",
            "_view_module_version": "1.2.0",
            "_view_name": "StyleView",
            "bar_color": null,
            "description_width": ""
          }
        },
        "cede76cee7264427b3a9256eeac7f786": {
          "model_module": "@jupyter-widgets/base",
          "model_name": "LayoutModel",
          "model_module_version": "1.2.0",
          "state": {
            "_model_module": "@jupyter-widgets/base",
            "_model_module_version": "1.2.0",
            "_model_name": "LayoutModel",
            "_view_count": null,
            "_view_module": "@jupyter-widgets/base",
            "_view_module_version": "1.2.0",
            "_view_name": "LayoutView",
            "align_content": null,
            "align_items": null,
            "align_self": null,
            "border": null,
            "bottom": null,
            "display": null,
            "flex": null,
            "flex_flow": null,
            "grid_area": null,
            "grid_auto_columns": null,
            "grid_auto_flow": null,
            "grid_auto_rows": null,
            "grid_column": null,
            "grid_gap": null,
            "grid_row": null,
            "grid_template_areas": null,
            "grid_template_columns": null,
            "grid_template_rows": null,
            "height": null,
            "justify_content": null,
            "justify_items": null,
            "left": null,
            "margin": null,
            "max_height": null,
            "max_width": null,
            "min_height": null,
            "min_width": null,
            "object_fit": null,
            "object_position": null,
            "order": null,
            "overflow": null,
            "overflow_x": null,
            "overflow_y": null,
            "padding": null,
            "right": null,
            "top": null,
            "visibility": null,
            "width": null
          }
        },
        "db471c9cbef84bdf8c99f748129fbb2e": {
          "model_module": "@jupyter-widgets/controls",
          "model_name": "DescriptionStyleModel",
          "model_module_version": "1.5.0",
          "state": {
            "_model_module": "@jupyter-widgets/controls",
            "_model_module_version": "1.5.0",
            "_model_name": "DescriptionStyleModel",
            "_view_count": null,
            "_view_module": "@jupyter-widgets/base",
            "_view_module_version": "1.2.0",
            "_view_name": "StyleView",
            "description_width": ""
          }
        },
        "86ff01299de942edbeda6175422912dc": {
          "model_module": "@jupyter-widgets/controls",
          "model_name": "HBoxModel",
          "model_module_version": "1.5.0",
          "state": {
            "_dom_classes": [],
            "_model_module": "@jupyter-widgets/controls",
            "_model_module_version": "1.5.0",
            "_model_name": "HBoxModel",
            "_view_count": null,
            "_view_module": "@jupyter-widgets/controls",
            "_view_module_version": "1.5.0",
            "_view_name": "HBoxView",
            "box_style": "",
            "children": [
              "IPY_MODEL_89d4a0015a2144d4b3aa5fb6f3ba2ab3",
              "IPY_MODEL_16ffbfc0e6244b2e99b5c5efb2cdb301",
              "IPY_MODEL_cd8b1900378a45b2accf32618556e483"
            ],
            "layout": "IPY_MODEL_077611efdf7f43a4bcfe97b1f722f6aa"
          }
        },
        "89d4a0015a2144d4b3aa5fb6f3ba2ab3": {
          "model_module": "@jupyter-widgets/controls",
          "model_name": "HTMLModel",
          "model_module_version": "1.5.0",
          "state": {
            "_dom_classes": [],
            "_model_module": "@jupyter-widgets/controls",
            "_model_module_version": "1.5.0",
            "_model_name": "HTMLModel",
            "_view_count": null,
            "_view_module": "@jupyter-widgets/controls",
            "_view_module_version": "1.5.0",
            "_view_name": "HTMLView",
            "description": "",
            "description_tooltip": null,
            "layout": "IPY_MODEL_e81fd39363b24dd080e1b49791f4afc0",
            "placeholder": "​",
            "style": "IPY_MODEL_bc0dab8887d44a6ea61f660482de3bee",
            "value": "pytorch_model.bin: 100%"
          }
        },
        "16ffbfc0e6244b2e99b5c5efb2cdb301": {
          "model_module": "@jupyter-widgets/controls",
          "model_name": "FloatProgressModel",
          "model_module_version": "1.5.0",
          "state": {
            "_dom_classes": [],
            "_model_module": "@jupyter-widgets/controls",
            "_model_module_version": "1.5.0",
            "_model_name": "FloatProgressModel",
            "_view_count": null,
            "_view_module": "@jupyter-widgets/controls",
            "_view_module_version": "1.5.0",
            "_view_name": "ProgressView",
            "bar_style": "success",
            "description": "",
            "description_tooltip": null,
            "layout": "IPY_MODEL_e76299fa05e740e8b5f422dd08385ebb",
            "max": 439101405,
            "min": 0,
            "orientation": "horizontal",
            "style": "IPY_MODEL_0775f513ed3941ffbfabd9e8a53baf05",
            "value": 439101405
          }
        },
        "cd8b1900378a45b2accf32618556e483": {
          "model_module": "@jupyter-widgets/controls",
          "model_name": "HTMLModel",
          "model_module_version": "1.5.0",
          "state": {
            "_dom_classes": [],
            "_model_module": "@jupyter-widgets/controls",
            "_model_module_version": "1.5.0",
            "_model_name": "HTMLModel",
            "_view_count": null,
            "_view_module": "@jupyter-widgets/controls",
            "_view_module_version": "1.5.0",
            "_view_name": "HTMLView",
            "description": "",
            "description_tooltip": null,
            "layout": "IPY_MODEL_640cfd8c31f24af6b79d2470243594fc",
            "placeholder": "​",
            "style": "IPY_MODEL_d56e1312c07e41598e6eef09d331d57e",
            "value": " 439M/439M [00:02&lt;00:00, 185MB/s]"
          }
        },
        "077611efdf7f43a4bcfe97b1f722f6aa": {
          "model_module": "@jupyter-widgets/base",
          "model_name": "LayoutModel",
          "model_module_version": "1.2.0",
          "state": {
            "_model_module": "@jupyter-widgets/base",
            "_model_module_version": "1.2.0",
            "_model_name": "LayoutModel",
            "_view_count": null,
            "_view_module": "@jupyter-widgets/base",
            "_view_module_version": "1.2.0",
            "_view_name": "LayoutView",
            "align_content": null,
            "align_items": null,
            "align_self": null,
            "border": null,
            "bottom": null,
            "display": null,
            "flex": null,
            "flex_flow": null,
            "grid_area": null,
            "grid_auto_columns": null,
            "grid_auto_flow": null,
            "grid_auto_rows": null,
            "grid_column": null,
            "grid_gap": null,
            "grid_row": null,
            "grid_template_areas": null,
            "grid_template_columns": null,
            "grid_template_rows": null,
            "height": null,
            "justify_content": null,
            "justify_items": null,
            "left": null,
            "margin": null,
            "max_height": null,
            "max_width": null,
            "min_height": null,
            "min_width": null,
            "object_fit": null,
            "object_position": null,
            "order": null,
            "overflow": null,
            "overflow_x": null,
            "overflow_y": null,
            "padding": null,
            "right": null,
            "top": null,
            "visibility": null,
            "width": null
          }
        },
        "e81fd39363b24dd080e1b49791f4afc0": {
          "model_module": "@jupyter-widgets/base",
          "model_name": "LayoutModel",
          "model_module_version": "1.2.0",
          "state": {
            "_model_module": "@jupyter-widgets/base",
            "_model_module_version": "1.2.0",
            "_model_name": "LayoutModel",
            "_view_count": null,
            "_view_module": "@jupyter-widgets/base",
            "_view_module_version": "1.2.0",
            "_view_name": "LayoutView",
            "align_content": null,
            "align_items": null,
            "align_self": null,
            "border": null,
            "bottom": null,
            "display": null,
            "flex": null,
            "flex_flow": null,
            "grid_area": null,
            "grid_auto_columns": null,
            "grid_auto_flow": null,
            "grid_auto_rows": null,
            "grid_column": null,
            "grid_gap": null,
            "grid_row": null,
            "grid_template_areas": null,
            "grid_template_columns": null,
            "grid_template_rows": null,
            "height": null,
            "justify_content": null,
            "justify_items": null,
            "left": null,
            "margin": null,
            "max_height": null,
            "max_width": null,
            "min_height": null,
            "min_width": null,
            "object_fit": null,
            "object_position": null,
            "order": null,
            "overflow": null,
            "overflow_x": null,
            "overflow_y": null,
            "padding": null,
            "right": null,
            "top": null,
            "visibility": null,
            "width": null
          }
        },
        "bc0dab8887d44a6ea61f660482de3bee": {
          "model_module": "@jupyter-widgets/controls",
          "model_name": "DescriptionStyleModel",
          "model_module_version": "1.5.0",
          "state": {
            "_model_module": "@jupyter-widgets/controls",
            "_model_module_version": "1.5.0",
            "_model_name": "DescriptionStyleModel",
            "_view_count": null,
            "_view_module": "@jupyter-widgets/base",
            "_view_module_version": "1.2.0",
            "_view_name": "StyleView",
            "description_width": ""
          }
        },
        "e76299fa05e740e8b5f422dd08385ebb": {
          "model_module": "@jupyter-widgets/base",
          "model_name": "LayoutModel",
          "model_module_version": "1.2.0",
          "state": {
            "_model_module": "@jupyter-widgets/base",
            "_model_module_version": "1.2.0",
            "_model_name": "LayoutModel",
            "_view_count": null,
            "_view_module": "@jupyter-widgets/base",
            "_view_module_version": "1.2.0",
            "_view_name": "LayoutView",
            "align_content": null,
            "align_items": null,
            "align_self": null,
            "border": null,
            "bottom": null,
            "display": null,
            "flex": null,
            "flex_flow": null,
            "grid_area": null,
            "grid_auto_columns": null,
            "grid_auto_flow": null,
            "grid_auto_rows": null,
            "grid_column": null,
            "grid_gap": null,
            "grid_row": null,
            "grid_template_areas": null,
            "grid_template_columns": null,
            "grid_template_rows": null,
            "height": null,
            "justify_content": null,
            "justify_items": null,
            "left": null,
            "margin": null,
            "max_height": null,
            "max_width": null,
            "min_height": null,
            "min_width": null,
            "object_fit": null,
            "object_position": null,
            "order": null,
            "overflow": null,
            "overflow_x": null,
            "overflow_y": null,
            "padding": null,
            "right": null,
            "top": null,
            "visibility": null,
            "width": null
          }
        },
        "0775f513ed3941ffbfabd9e8a53baf05": {
          "model_module": "@jupyter-widgets/controls",
          "model_name": "ProgressStyleModel",
          "model_module_version": "1.5.0",
          "state": {
            "_model_module": "@jupyter-widgets/controls",
            "_model_module_version": "1.5.0",
            "_model_name": "ProgressStyleModel",
            "_view_count": null,
            "_view_module": "@jupyter-widgets/base",
            "_view_module_version": "1.2.0",
            "_view_name": "StyleView",
            "bar_color": null,
            "description_width": ""
          }
        },
        "640cfd8c31f24af6b79d2470243594fc": {
          "model_module": "@jupyter-widgets/base",
          "model_name": "LayoutModel",
          "model_module_version": "1.2.0",
          "state": {
            "_model_module": "@jupyter-widgets/base",
            "_model_module_version": "1.2.0",
            "_model_name": "LayoutModel",
            "_view_count": null,
            "_view_module": "@jupyter-widgets/base",
            "_view_module_version": "1.2.0",
            "_view_name": "LayoutView",
            "align_content": null,
            "align_items": null,
            "align_self": null,
            "border": null,
            "bottom": null,
            "display": null,
            "flex": null,
            "flex_flow": null,
            "grid_area": null,
            "grid_auto_columns": null,
            "grid_auto_flow": null,
            "grid_auto_rows": null,
            "grid_column": null,
            "grid_gap": null,
            "grid_row": null,
            "grid_template_areas": null,
            "grid_template_columns": null,
            "grid_template_rows": null,
            "height": null,
            "justify_content": null,
            "justify_items": null,
            "left": null,
            "margin": null,
            "max_height": null,
            "max_width": null,
            "min_height": null,
            "min_width": null,
            "object_fit": null,
            "object_position": null,
            "order": null,
            "overflow": null,
            "overflow_x": null,
            "overflow_y": null,
            "padding": null,
            "right": null,
            "top": null,
            "visibility": null,
            "width": null
          }
        },
        "d56e1312c07e41598e6eef09d331d57e": {
          "model_module": "@jupyter-widgets/controls",
          "model_name": "DescriptionStyleModel",
          "model_module_version": "1.5.0",
          "state": {
            "_model_module": "@jupyter-widgets/controls",
            "_model_module_version": "1.5.0",
            "_model_name": "DescriptionStyleModel",
            "_view_count": null,
            "_view_module": "@jupyter-widgets/base",
            "_view_module_version": "1.2.0",
            "_view_name": "StyleView",
            "description_width": ""
          }
        }
      }
    }
  },
  "cells": [
    {
      "cell_type": "markdown",
      "source": [
        "## Assignment: Financial Analysis and Sentiment Analysis with LLM\n",
        "**Objective**: You will work with a Large Language Model (LLM) to generate financial strategies and analyze sentiment from market-related content. The goal is to implement practical finance-related tasks and use LLM for sentiment analysis of social media posts.\n",
        "\n",
        "## 2.\tTask 2 - Sentiment Analysis of Market-related Tweets:\n",
        "\n",
        "○\tFind two finance or market-related posts on Twitter (or any other social media platform) about a recent market event or financial news.\n",
        "○\tPass this text to the LLM model and ask it to analyze the sentiment of each post.\n",
        "○\tThe model should classify the sentiment of the post as positive, negative, or neutral, and provide a brief explanation for the classification.\n",
        "\n",
        "# Example Prompt:\n",
        "\n",
        "■\tTweet: \"Stocks are surging today, with tech companies leading the way! Bullish sentiment driving the market!\"\n",
        "■\tModel Response: Sentiment: Positive. Explanation: The tweet expresses optimism with the market trending upwards and highlighting the performance of tech stocks.\n",
        "\n"
      ],
      "metadata": {
        "id": "1hC0J-mqcSBb"
      }
    },
    {
      "cell_type": "markdown",
      "source": [
        "## 1. Project Planning and Requirements Gathering\n",
        "# a. Define Objectives\n",
        "**Primary Goal:** Analyze the sentiment of market-related tweets to gauge public opinion on recent financial events.\n",
        "**Secondary Goals:** Identify trends, correlate sentiment with market movements, and generate actionable insights for stakeholders.\n",
        "# b. Identify Stakeholders\n",
        "**Internal:** Data scientists, data engineers, financial analysts, project managers.\n",
        "**External:** Investors, financial institutions, social media platforms.\n",
        "# c. Determine Success Metrics\n",
        "**Accuracy:** Correct classification of sentiments (Positive, Negative, Neutral).\n",
        "\n",
        "**Precision & Recall:** Especially important if certain sentiment classes are of higher interest.\n",
        "\n",
        "**Processing Time:** Efficiency in handling data in real-time or batch processing.\n",
        "\n",
        "**Scalability:** Ability to handle increasing volumes of data.\n",
        "\n",
        "## 2. Data Collection\n",
        "# Selecting the Data Source\n",
        "**Platform Choice:** Twitter (X) is ideal due to its real-time data and relevance to market discussions."
      ],
      "metadata": {
        "id": "ytkxZ97WYD3Z"
      }
    },
    {
      "cell_type": "markdown",
      "source": [
        "## 3. Data Preprocessing\n",
        "# a. Data Cleaning\n",
        "**Remove Noise:** Eliminate URLs, mentions (@user), hashtags (if not needed for context), emojis, and special characters.\n",
        "**Case Normalization:** Convert text to lowercase to maintain consistency.\n",
        "# b. Text Normalization\n",
        "**Tokenization:** Break down text into individual tokens or words.\n",
        "Stop Words Removal: Remove common words that do not contribute to sentiment (e.g., “the,” “is,” “at”).\n",
        "**Stemming/Lemmatization:** Reduce words to their root forms to standardize the dataset.\n",
        "# c. Handling Imbalanced Data\n",
        "**Class Distribution:** Ensure balanced representation of Positive, Negative, and Neutral sentiments.\n",
        "**Techniques:** Use oversampling (e.g., SMOTE), undersampling, or class weighting during model training.\n",
        "# d. Feature Engineering\n",
        "**Bag of Words (BoW)**: Represent text data as frequency counts.\n",
        "**TF-IDF**: Capture the importance of words relative to the document and corpus.\n",
        "**Word Embeddings:** Utilize models like Word2Vec, GloVe, or contextual embeddings from transformers (e.g., BERT)\n"
      ],
      "metadata": {
        "id": "tPhi_VbgZNwS"
      }
    },
    {
      "cell_type": "markdown",
      "source": [
        "## 4. Model Selection and Training\n",
        "# a. Leveraging Pre-trained Language Models (LLMs)\n",
        "**Models to Consider:** GPT-4, BERT, RoBERTa, DistilBERT.\n",
        "**Advantages**: Pre-trained models understand context and semantics better, requiring less data for fine-tuning.\n",
        "# b. Fine-Tuning the LLM\n",
        "**Dataset Preparation:** Create labeled datasets with sentiments annotated as Positive, Negative, or Neutral.\n",
        "**Training Process:** Fine-tune the model on your specific dataset to adapt it to financial language nuances.\n",
        "**Tools:** Use frameworks like Hugging Face’s Transformers, TensorFlow, or PyTorch."
      ],
      "metadata": {
        "id": "we0B6P4waHqR"
      }
    },
    {
      "cell_type": "code",
      "execution_count": 1,
      "metadata": {
        "colab": {
          "base_uri": "https://localhost:8080/"
        },
        "id": "XmtZvPiHJZVs",
        "outputId": "ee9f7142-7d4f-41d4-e923-e7456b24d4fa"
      },
      "outputs": [
        {
          "output_type": "stream",
          "name": "stdout",
          "text": [
            "Requirement already satisfied: transformers in /usr/local/lib/python3.10/dist-packages (4.46.3)\n",
            "Requirement already satisfied: torch in /usr/local/lib/python3.10/dist-packages (2.5.1+cu121)\n",
            "Requirement already satisfied: pandas in /usr/local/lib/python3.10/dist-packages (2.2.2)\n",
            "Requirement already satisfied: numpy in /usr/local/lib/python3.10/dist-packages (1.26.4)\n",
            "Requirement already satisfied: scikit-learn in /usr/local/lib/python3.10/dist-packages (1.5.2)\n",
            "Requirement already satisfied: filelock in /usr/local/lib/python3.10/dist-packages (from transformers) (3.16.1)\n",
            "Requirement already satisfied: huggingface-hub<1.0,>=0.23.2 in /usr/local/lib/python3.10/dist-packages (from transformers) (0.26.3)\n",
            "Requirement already satisfied: packaging>=20.0 in /usr/local/lib/python3.10/dist-packages (from transformers) (24.2)\n",
            "Requirement already satisfied: pyyaml>=5.1 in /usr/local/lib/python3.10/dist-packages (from transformers) (6.0.2)\n",
            "Requirement already satisfied: regex!=2019.12.17 in /usr/local/lib/python3.10/dist-packages (from transformers) (2024.9.11)\n",
            "Requirement already satisfied: requests in /usr/local/lib/python3.10/dist-packages (from transformers) (2.32.3)\n",
            "Requirement already satisfied: tokenizers<0.21,>=0.20 in /usr/local/lib/python3.10/dist-packages (from transformers) (0.20.3)\n",
            "Requirement already satisfied: safetensors>=0.4.1 in /usr/local/lib/python3.10/dist-packages (from transformers) (0.4.5)\n",
            "Requirement already satisfied: tqdm>=4.27 in /usr/local/lib/python3.10/dist-packages (from transformers) (4.66.6)\n",
            "Requirement already satisfied: typing-extensions>=4.8.0 in /usr/local/lib/python3.10/dist-packages (from torch) (4.12.2)\n",
            "Requirement already satisfied: networkx in /usr/local/lib/python3.10/dist-packages (from torch) (3.4.2)\n",
            "Requirement already satisfied: jinja2 in /usr/local/lib/python3.10/dist-packages (from torch) (3.1.4)\n",
            "Requirement already satisfied: fsspec in /usr/local/lib/python3.10/dist-packages (from torch) (2024.10.0)\n",
            "Requirement already satisfied: sympy==1.13.1 in /usr/local/lib/python3.10/dist-packages (from torch) (1.13.1)\n",
            "Requirement already satisfied: mpmath<1.4,>=1.1.0 in /usr/local/lib/python3.10/dist-packages (from sympy==1.13.1->torch) (1.3.0)\n",
            "Requirement already satisfied: python-dateutil>=2.8.2 in /usr/local/lib/python3.10/dist-packages (from pandas) (2.8.2)\n",
            "Requirement already satisfied: pytz>=2020.1 in /usr/local/lib/python3.10/dist-packages (from pandas) (2024.2)\n",
            "Requirement already satisfied: tzdata>=2022.7 in /usr/local/lib/python3.10/dist-packages (from pandas) (2024.2)\n",
            "Requirement already satisfied: scipy>=1.6.0 in /usr/local/lib/python3.10/dist-packages (from scikit-learn) (1.13.1)\n",
            "Requirement already satisfied: joblib>=1.2.0 in /usr/local/lib/python3.10/dist-packages (from scikit-learn) (1.4.2)\n",
            "Requirement already satisfied: threadpoolctl>=3.1.0 in /usr/local/lib/python3.10/dist-packages (from scikit-learn) (3.5.0)\n",
            "Requirement already satisfied: six>=1.5 in /usr/local/lib/python3.10/dist-packages (from python-dateutil>=2.8.2->pandas) (1.16.0)\n",
            "Requirement already satisfied: MarkupSafe>=2.0 in /usr/local/lib/python3.10/dist-packages (from jinja2->torch) (3.0.2)\n",
            "Requirement already satisfied: charset-normalizer<4,>=2 in /usr/local/lib/python3.10/dist-packages (from requests->transformers) (3.4.0)\n",
            "Requirement already satisfied: idna<4,>=2.5 in /usr/local/lib/python3.10/dist-packages (from requests->transformers) (3.10)\n",
            "Requirement already satisfied: urllib3<3,>=1.21.1 in /usr/local/lib/python3.10/dist-packages (from requests->transformers) (2.2.3)\n",
            "Requirement already satisfied: certifi>=2017.4.17 in /usr/local/lib/python3.10/dist-packages (from requests->transformers) (2024.8.30)\n"
          ]
        }
      ],
      "source": [
        "# Install important Libraries\n",
        "!pip install transformers torch pandas numpy scikit-learn\n"
      ]
    },
    {
      "cell_type": "code",
      "source": [
        "#Import Important Libraries\n",
        "\n",
        "from transformers import BertTokenizer, BertForSequenceClassification\n",
        "import torch\n",
        "\n",
        "# Load pre-trained FinBERT model and tokenizer\n",
        "tokenizer = BertTokenizer.from_pretrained('yiyanghkust/finbert-tone')\n",
        "model = BertForSequenceClassification.from_pretrained('yiyanghkust/finbert-tone')\n"
      ],
      "metadata": {
        "colab": {
          "base_uri": "https://localhost:8080/",
          "height": 237,
          "referenced_widgets": [
            "2bac326829424135be9beecb2f74582d",
            "382931255b3b4c29be8434dcb1294bcc",
            "cb3442fbf63c480fac66b227a5985799",
            "8469ce1dbfa748e9809523ff3ea640f1",
            "8a33b13d57124657bbacd7d9ba4ee111",
            "c3aaf9048b1849daafbc7faca76aba1f",
            "01dd7a017b3141b8ac3e590fb5e3cea3",
            "5ab362c8ee9a46798cb475d4cb2edf44",
            "c13d8e76fa514e9fb25076f6e6152f39",
            "e43ab619b8a74338a5eb8036a7863438",
            "e85fce2be49744a2999c79cd2e376171",
            "7314c4875df84b63b839eab5725a021a",
            "b32f831a42654be191374ab0327ed2ba",
            "16e4125a62bf47b5815963598a071b85",
            "39f6e77746484ec09a5e259931e6e3d8",
            "9bb73559e3f0441dacdbec6a2ada80e9",
            "1a9ca3b194a441fea08211b49964bfe9",
            "676a5844a67445d8b2b0f0971bc1e898",
            "55da95ef6a5b4eb39e793e4ca1fc0bc0",
            "4880bd6d866c4ffabc0d0bb858d38809",
            "cede76cee7264427b3a9256eeac7f786",
            "db471c9cbef84bdf8c99f748129fbb2e",
            "86ff01299de942edbeda6175422912dc",
            "89d4a0015a2144d4b3aa5fb6f3ba2ab3",
            "16ffbfc0e6244b2e99b5c5efb2cdb301",
            "cd8b1900378a45b2accf32618556e483",
            "077611efdf7f43a4bcfe97b1f722f6aa",
            "e81fd39363b24dd080e1b49791f4afc0",
            "bc0dab8887d44a6ea61f660482de3bee",
            "e76299fa05e740e8b5f422dd08385ebb",
            "0775f513ed3941ffbfabd9e8a53baf05",
            "640cfd8c31f24af6b79d2470243594fc",
            "d56e1312c07e41598e6eef09d331d57e"
          ]
        },
        "id": "ahYvxq14KXOD",
        "outputId": "b23cb57c-5708-473c-c9c9-a959e4dd89cd"
      },
      "execution_count": 2,
      "outputs": [
        {
          "output_type": "stream",
          "name": "stderr",
          "text": [
            "/usr/local/lib/python3.10/dist-packages/huggingface_hub/utils/_auth.py:94: UserWarning: \n",
            "The secret `HF_TOKEN` does not exist in your Colab secrets.\n",
            "To authenticate with the Hugging Face Hub, create a token in your settings tab (https://huggingface.co/settings/tokens), set it as secret in your Google Colab and restart your session.\n",
            "You will be able to reuse this secret in all of your notebooks.\n",
            "Please note that authentication is recommended but still optional to access public models or datasets.\n",
            "  warnings.warn(\n"
          ]
        },
        {
          "output_type": "display_data",
          "data": {
            "text/plain": [
              "vocab.txt:   0%|          | 0.00/226k [00:00<?, ?B/s]"
            ],
            "application/vnd.jupyter.widget-view+json": {
              "version_major": 2,
              "version_minor": 0,
              "model_id": "2bac326829424135be9beecb2f74582d"
            }
          },
          "metadata": {}
        },
        {
          "output_type": "display_data",
          "data": {
            "text/plain": [
              "config.json:   0%|          | 0.00/533 [00:00<?, ?B/s]"
            ],
            "application/vnd.jupyter.widget-view+json": {
              "version_major": 2,
              "version_minor": 0,
              "model_id": "7314c4875df84b63b839eab5725a021a"
            }
          },
          "metadata": {}
        },
        {
          "output_type": "display_data",
          "data": {
            "text/plain": [
              "pytorch_model.bin:   0%|          | 0.00/439M [00:00<?, ?B/s]"
            ],
            "application/vnd.jupyter.widget-view+json": {
              "version_major": 2,
              "version_minor": 0,
              "model_id": "86ff01299de942edbeda6175422912dc"
            }
          },
          "metadata": {}
        }
      ]
    },
    {
      "cell_type": "code",
      "source": [
        "def analyze_sentiment_finbert(tweet):\n",
        "    inputs = tokenizer(tweet, return_tensors='pt', truncation=True, padding=True)\n",
        "    outputs = model(**inputs)\n",
        "    probs = torch.nn.functional.softmax(outputs.logits, dim=1)\n",
        "    sentiment = torch.argmax(probs).item()\n",
        "    sentiments = ['Negative', 'Neutral', 'Positive']\n",
        "    return sentiments[sentiment]\n"
      ],
      "metadata": {
        "id": "Qw50COz9KlOV"
      },
      "execution_count": 3,
      "outputs": []
    },
    {
      "cell_type": "code",
      "source": [
        "!pip install shap\n"
      ],
      "metadata": {
        "colab": {
          "base_uri": "https://localhost:8080/"
        },
        "id": "6VDASDbKKrXJ",
        "outputId": "a14cf991-7b8d-4c78-8561-7fb4745df261"
      },
      "execution_count": 4,
      "outputs": [
        {
          "output_type": "stream",
          "name": "stdout",
          "text": [
            "Requirement already satisfied: shap in /usr/local/lib/python3.10/dist-packages (0.46.0)\n",
            "Requirement already satisfied: numpy in /usr/local/lib/python3.10/dist-packages (from shap) (1.26.4)\n",
            "Requirement already satisfied: scipy in /usr/local/lib/python3.10/dist-packages (from shap) (1.13.1)\n",
            "Requirement already satisfied: scikit-learn in /usr/local/lib/python3.10/dist-packages (from shap) (1.5.2)\n",
            "Requirement already satisfied: pandas in /usr/local/lib/python3.10/dist-packages (from shap) (2.2.2)\n",
            "Requirement already satisfied: tqdm>=4.27.0 in /usr/local/lib/python3.10/dist-packages (from shap) (4.66.6)\n",
            "Requirement already satisfied: packaging>20.9 in /usr/local/lib/python3.10/dist-packages (from shap) (24.2)\n",
            "Requirement already satisfied: slicer==0.0.8 in /usr/local/lib/python3.10/dist-packages (from shap) (0.0.8)\n",
            "Requirement already satisfied: numba in /usr/local/lib/python3.10/dist-packages (from shap) (0.60.0)\n",
            "Requirement already satisfied: cloudpickle in /usr/local/lib/python3.10/dist-packages (from shap) (3.1.0)\n",
            "Requirement already satisfied: llvmlite<0.44,>=0.43.0dev0 in /usr/local/lib/python3.10/dist-packages (from numba->shap) (0.43.0)\n",
            "Requirement already satisfied: python-dateutil>=2.8.2 in /usr/local/lib/python3.10/dist-packages (from pandas->shap) (2.8.2)\n",
            "Requirement already satisfied: pytz>=2020.1 in /usr/local/lib/python3.10/dist-packages (from pandas->shap) (2024.2)\n",
            "Requirement already satisfied: tzdata>=2022.7 in /usr/local/lib/python3.10/dist-packages (from pandas->shap) (2024.2)\n",
            "Requirement already satisfied: joblib>=1.2.0 in /usr/local/lib/python3.10/dist-packages (from scikit-learn->shap) (1.4.2)\n",
            "Requirement already satisfied: threadpoolctl>=3.1.0 in /usr/local/lib/python3.10/dist-packages (from scikit-learn->shap) (3.5.0)\n",
            "Requirement already satisfied: six>=1.5 in /usr/local/lib/python3.10/dist-packages (from python-dateutil>=2.8.2->pandas->shap) (1.16.0)\n"
          ]
        }
      ]
    },
    {
      "cell_type": "code",
      "source": [
        "import shap\n",
        "\n",
        "# Define a wrapper function for SHAP\n",
        "def finbert_predict(texts):\n",
        "    inputs = tokenizer(texts, return_tensors='pt', truncation=True, padding=True)\n",
        "    outputs = model(**inputs)\n",
        "    probs = torch.nn.functional.softmax(outputs.logits, dim=1).detach().numpy()\n",
        "    return probs\n",
        "\n",
        "# Initialize SHAP explainer\n",
        "explainer = shap.Explainer(finbert_predict, tokenizer)\n"
      ],
      "metadata": {
        "id": "_R7LvnYYKuKV"
      },
      "execution_count": 5,
      "outputs": []
    },
    {
      "cell_type": "code",
      "source": [
        "explainer = shap.Explainer(finbert_predict, tokenizer)  # tokenizer is not a list of strings\n"
      ],
      "metadata": {
        "id": "OgZiTvI2MTop"
      },
      "execution_count": 11,
      "outputs": []
    },
    {
      "cell_type": "code",
      "source": [
        "!pip install transformers torch shap\n"
      ],
      "metadata": {
        "colab": {
          "base_uri": "https://localhost:8080/"
        },
        "id": "PlmrYyb7Mmo8",
        "outputId": "e6a1814b-772c-4398-da13-57f81f938eba"
      },
      "execution_count": 13,
      "outputs": [
        {
          "output_type": "stream",
          "name": "stdout",
          "text": [
            "Requirement already satisfied: transformers in /usr/local/lib/python3.10/dist-packages (4.46.3)\n",
            "Requirement already satisfied: torch in /usr/local/lib/python3.10/dist-packages (2.5.1+cu121)\n",
            "Requirement already satisfied: shap in /usr/local/lib/python3.10/dist-packages (0.46.0)\n",
            "Requirement already satisfied: filelock in /usr/local/lib/python3.10/dist-packages (from transformers) (3.16.1)\n",
            "Requirement already satisfied: huggingface-hub<1.0,>=0.23.2 in /usr/local/lib/python3.10/dist-packages (from transformers) (0.26.3)\n",
            "Requirement already satisfied: numpy>=1.17 in /usr/local/lib/python3.10/dist-packages (from transformers) (1.26.4)\n",
            "Requirement already satisfied: packaging>=20.0 in /usr/local/lib/python3.10/dist-packages (from transformers) (24.2)\n",
            "Requirement already satisfied: pyyaml>=5.1 in /usr/local/lib/python3.10/dist-packages (from transformers) (6.0.2)\n",
            "Requirement already satisfied: regex!=2019.12.17 in /usr/local/lib/python3.10/dist-packages (from transformers) (2024.9.11)\n",
            "Requirement already satisfied: requests in /usr/local/lib/python3.10/dist-packages (from transformers) (2.32.3)\n",
            "Requirement already satisfied: tokenizers<0.21,>=0.20 in /usr/local/lib/python3.10/dist-packages (from transformers) (0.20.3)\n",
            "Requirement already satisfied: safetensors>=0.4.1 in /usr/local/lib/python3.10/dist-packages (from transformers) (0.4.5)\n",
            "Requirement already satisfied: tqdm>=4.27 in /usr/local/lib/python3.10/dist-packages (from transformers) (4.66.6)\n",
            "Requirement already satisfied: typing-extensions>=4.8.0 in /usr/local/lib/python3.10/dist-packages (from torch) (4.12.2)\n",
            "Requirement already satisfied: networkx in /usr/local/lib/python3.10/dist-packages (from torch) (3.4.2)\n",
            "Requirement already satisfied: jinja2 in /usr/local/lib/python3.10/dist-packages (from torch) (3.1.4)\n",
            "Requirement already satisfied: fsspec in /usr/local/lib/python3.10/dist-packages (from torch) (2024.10.0)\n",
            "Requirement already satisfied: sympy==1.13.1 in /usr/local/lib/python3.10/dist-packages (from torch) (1.13.1)\n",
            "Requirement already satisfied: mpmath<1.4,>=1.1.0 in /usr/local/lib/python3.10/dist-packages (from sympy==1.13.1->torch) (1.3.0)\n",
            "Requirement already satisfied: scipy in /usr/local/lib/python3.10/dist-packages (from shap) (1.13.1)\n",
            "Requirement already satisfied: scikit-learn in /usr/local/lib/python3.10/dist-packages (from shap) (1.5.2)\n",
            "Requirement already satisfied: pandas in /usr/local/lib/python3.10/dist-packages (from shap) (2.2.2)\n",
            "Requirement already satisfied: slicer==0.0.8 in /usr/local/lib/python3.10/dist-packages (from shap) (0.0.8)\n",
            "Requirement already satisfied: numba in /usr/local/lib/python3.10/dist-packages (from shap) (0.60.0)\n",
            "Requirement already satisfied: cloudpickle in /usr/local/lib/python3.10/dist-packages (from shap) (3.1.0)\n",
            "Requirement already satisfied: MarkupSafe>=2.0 in /usr/local/lib/python3.10/dist-packages (from jinja2->torch) (3.0.2)\n",
            "Requirement already satisfied: llvmlite<0.44,>=0.43.0dev0 in /usr/local/lib/python3.10/dist-packages (from numba->shap) (0.43.0)\n",
            "Requirement already satisfied: python-dateutil>=2.8.2 in /usr/local/lib/python3.10/dist-packages (from pandas->shap) (2.8.2)\n",
            "Requirement already satisfied: pytz>=2020.1 in /usr/local/lib/python3.10/dist-packages (from pandas->shap) (2024.2)\n",
            "Requirement already satisfied: tzdata>=2022.7 in /usr/local/lib/python3.10/dist-packages (from pandas->shap) (2024.2)\n",
            "Requirement already satisfied: charset-normalizer<4,>=2 in /usr/local/lib/python3.10/dist-packages (from requests->transformers) (3.4.0)\n",
            "Requirement already satisfied: idna<4,>=2.5 in /usr/local/lib/python3.10/dist-packages (from requests->transformers) (3.10)\n",
            "Requirement already satisfied: urllib3<3,>=1.21.1 in /usr/local/lib/python3.10/dist-packages (from requests->transformers) (2.2.3)\n",
            "Requirement already satisfied: certifi>=2017.4.17 in /usr/local/lib/python3.10/dist-packages (from requests->transformers) (2024.8.30)\n",
            "Requirement already satisfied: joblib>=1.2.0 in /usr/local/lib/python3.10/dist-packages (from scikit-learn->shap) (1.4.2)\n",
            "Requirement already satisfied: threadpoolctl>=3.1.0 in /usr/local/lib/python3.10/dist-packages (from scikit-learn->shap) (3.5.0)\n",
            "Requirement already satisfied: six>=1.5 in /usr/local/lib/python3.10/dist-packages (from python-dateutil>=2.8.2->pandas->shap) (1.16.0)\n"
          ]
        }
      ]
    },
    {
      "cell_type": "code",
      "source": [
        "from transformers import BertTokenizer, BertForSequenceClassification\n",
        "import torch\n",
        "import shap\n",
        "\n",
        "# Load pre-trained FinBERT model and tokenizer\n",
        "tokenizer = BertTokenizer.from_pretrained('yiyanghkust/finbert-tone')\n",
        "model = BertForSequenceClassification.from_pretrained('yiyanghkust/finbert-tone')\n",
        "model.eval()  # Set model to evaluation mode\n"
      ],
      "metadata": {
        "colab": {
          "base_uri": "https://localhost:8080/"
        },
        "id": "Qwkqd9BiMvqf",
        "outputId": "2a436f28-c90b-4ec8-b1a9-60e0515c16c0"
      },
      "execution_count": 15,
      "outputs": [
        {
          "output_type": "execute_result",
          "data": {
            "text/plain": [
              "BertForSequenceClassification(\n",
              "  (bert): BertModel(\n",
              "    (embeddings): BertEmbeddings(\n",
              "      (word_embeddings): Embedding(30873, 768, padding_idx=0)\n",
              "      (position_embeddings): Embedding(512, 768)\n",
              "      (token_type_embeddings): Embedding(2, 768)\n",
              "      (LayerNorm): LayerNorm((768,), eps=1e-12, elementwise_affine=True)\n",
              "      (dropout): Dropout(p=0.1, inplace=False)\n",
              "    )\n",
              "    (encoder): BertEncoder(\n",
              "      (layer): ModuleList(\n",
              "        (0-11): 12 x BertLayer(\n",
              "          (attention): BertAttention(\n",
              "            (self): BertSdpaSelfAttention(\n",
              "              (query): Linear(in_features=768, out_features=768, bias=True)\n",
              "              (key): Linear(in_features=768, out_features=768, bias=True)\n",
              "              (value): Linear(in_features=768, out_features=768, bias=True)\n",
              "              (dropout): Dropout(p=0.1, inplace=False)\n",
              "            )\n",
              "            (output): BertSelfOutput(\n",
              "              (dense): Linear(in_features=768, out_features=768, bias=True)\n",
              "              (LayerNorm): LayerNorm((768,), eps=1e-12, elementwise_affine=True)\n",
              "              (dropout): Dropout(p=0.1, inplace=False)\n",
              "            )\n",
              "          )\n",
              "          (intermediate): BertIntermediate(\n",
              "            (dense): Linear(in_features=768, out_features=3072, bias=True)\n",
              "            (intermediate_act_fn): GELUActivation()\n",
              "          )\n",
              "          (output): BertOutput(\n",
              "            (dense): Linear(in_features=3072, out_features=768, bias=True)\n",
              "            (LayerNorm): LayerNorm((768,), eps=1e-12, elementwise_affine=True)\n",
              "            (dropout): Dropout(p=0.1, inplace=False)\n",
              "          )\n",
              "        )\n",
              "      )\n",
              "    )\n",
              "    (pooler): BertPooler(\n",
              "      (dense): Linear(in_features=768, out_features=768, bias=True)\n",
              "      (activation): Tanh()\n",
              "    )\n",
              "  )\n",
              "  (dropout): Dropout(p=0.1, inplace=False)\n",
              "  (classifier): Linear(in_features=768, out_features=3, bias=True)\n",
              ")"
            ]
          },
          "metadata": {},
          "execution_count": 15
        }
      ]
    },
    {
      "cell_type": "code",
      "source": [
        "def finbert_predict(texts):\n",
        "    # Ensure texts is a list of strings\n",
        "    if isinstance(texts, str):\n",
        "        texts = [texts]\n",
        "    elif isinstance(texts, list):\n",
        "        if not all(isinstance(text, str) for text in texts):\n",
        "            raise ValueError(\"All items in the list must be strings.\")\n",
        "    else:\n",
        "        raise ValueError(\"Input must be a string or a list of strings.\")\n",
        "\n",
        "    # Tokenize the input texts\n",
        "    inputs = tokenizer(texts, return_tensors='pt', truncation=True, padding=True)\n",
        "\n",
        "    # Perform forward pass\n",
        "    with torch.no_grad():\n",
        "        outputs = model(**inputs)\n",
        "\n",
        "    # Apply softmax to get probabilities\n",
        "    probs = torch.nn.functional.softmax(outputs.logits, dim=1).numpy()\n",
        "    return probs\n"
      ],
      "metadata": {
        "id": "Wk5wu3ZxM44U"
      },
      "execution_count": 16,
      "outputs": []
    },
    {
      "cell_type": "code",
      "source": [
        "# Example background tweets (you can replace these with your own samples)\n",
        "background_texts = [\n",
        "    \"The market is bullish today with significant gains in tech stocks.\",\n",
        "    \"Economic uncertainty leads to a downturn in the stock market.\",\n",
        "    \"Neutral sentiments observed as markets stabilize.\",\n",
        "    \"Investors are optimistic about the upcoming earnings reports.\",\n",
        "    \"Market volatility continues amidst global economic challenges.\"\n",
        "]\n"
      ],
      "metadata": {
        "id": "x61QSDUGNDXE"
      },
      "execution_count": 18,
      "outputs": []
    },
    {
      "cell_type": "code",
      "source": [
        "# Initialize SHAP Explainer with the finbert_predict function and background data\n",
        "explainer = shap.Explainer(finbert_predict, background_texts)\n"
      ],
      "metadata": {
        "id": "iFjjSbEeNMA3"
      },
      "execution_count": 19,
      "outputs": []
    },
    {
      "cell_type": "code",
      "source": [
        "# Example tweet to analyze\n",
        "tweet = \"Stocks are surging today, with tech companies leading the way! Bullish sentiment driving the market!\"\n",
        "\n"
      ],
      "metadata": {
        "id": "QGBdTSqvNSrW"
      },
      "execution_count": 34,
      "outputs": []
    },
    {
      "cell_type": "code",
      "source": [
        "def analyze_and_explain(tweet, top_n=3):\n",
        "    sentiment_probs = finbert_predict(tweet1)\n",
        "    sentiment_index = sentiment_probs.argmax(axis=1)[0]\n",
        "    sentiments = ['Negative', 'Neutral', 'Positive']\n",
        "    sentiment = sentiments[sentiment_index]\n",
        "\n",
        "    explanation = f\"Key terms influencing sentiment: {', '.join(tweet)}\"\n",
        "\n",
        "    return {\n",
        "        \"Tweet\": tweet,\n",
        "        \"Sentiment\": sentiment,\n",
        "        \"Explanation\": explanation\n",
        "    }\n",
        "\n",
        "# Example Usage\n",
        "result = analyze_and_explain(tweet)\n",
        "print(result)\n"
      ],
      "metadata": {
        "colab": {
          "base_uri": "https://localhost:8080/"
        },
        "id": "yxIWIcctNoJA",
        "outputId": "9c5860b2-e63b-4509-87fb-08e996e89405"
      },
      "execution_count": 36,
      "outputs": [
        {
          "output_type": "stream",
          "name": "stdout",
          "text": [
            "{'Tweet': 'Stocks are surging today, with tech companies leading the way! Bullish sentiment driving the market!', 'Sentiment': 'Positive', 'Explanation': 'Key terms influencing sentiment: S, t, o, c, k, s,  , a, r, e,  , s, u, r, g, i, n, g,  , t, o, d, a, y, ,,  , w, i, t, h,  , t, e, c, h,  , c, o, m, p, a, n, i, e, s,  , l, e, a, d, i, n, g,  , t, h, e,  , w, a, y, !,  , B, u, l, l, i, s, h,  , s, e, n, t, i, m, e, n, t,  , d, r, i, v, i, n, g,  , t, h, e,  , m, a, r, k, e, t, !'}\n"
          ]
        }
      ]
    },
    {
      "cell_type": "code",
      "source": [
        "# Example tweet to analyze\n",
        "tweet1 = \"Money flows effortlessly into my life, bringing abundance and joy. I am a magnet for financial success.\""
      ],
      "metadata": {
        "id": "YRby8_MeOXDI"
      },
      "execution_count": 63,
      "outputs": []
    },
    {
      "cell_type": "code",
      "source": [
        "def analyze_and_explain(tweet1, top_n=3):\n",
        "    sentiment_probs = finbert_predict(tweet1)\n",
        "    sentiment_index = sentiment_probs.argmax(axis=1)[0]\n",
        "    sentiments = ['Negative', 'Neutral', 'Positive']\n",
        "    sentiment = sentiments[sentiment_index]\n",
        "\n",
        "    explanation = f\"Key terms influencing sentiment: {', '.join(tweet1)}\"\n",
        "\n",
        "    return {\n",
        "        \"Tweet\": tweet1,\n",
        "        \"Sentiment\": sentiment,\n",
        "        \"Explanation\": explanation\n",
        "    }\n",
        "\n",
        "# Example Usage\n",
        "result = analyze_and_explain(tweet1)\n",
        "print(result)\n"
      ],
      "metadata": {
        "colab": {
          "base_uri": "https://localhost:8080/"
        },
        "id": "XspJJ1cLOOj8",
        "outputId": "7b2b0b0d-a2a1-43a7-fb74-4a9c2b976513"
      },
      "execution_count": 66,
      "outputs": [
        {
          "output_type": "stream",
          "name": "stdout",
          "text": [
            "Predictions for texts: Money flows effortlessly into my life, bringing abundance and joy. I am a magnet for financial success.\n",
            "[[{'label': 'Neutral', 'score': 1.0452318122133875e-07}, {'label': 'Positive', 'score': 0.9999994039535522}, {'label': 'Negative', 'score': 4.575226739689242e-07}]]\n",
            "Extracted scores:\n",
            "[[1.04523181e-07 9.99999404e-01 4.57522674e-07]]\n",
            "{'Tweet': 'Money flows effortlessly into my life, bringing abundance and joy. I am a magnet for financial success.', 'Sentiment': 'Neutral', 'Explanation': 'Key terms influencing sentiment: M, o, n, e, y,  , f, l, o, w, s,  , e, f, f, o, r, t, l, e, s, s, l, y,  , i, n, t, o,  , m, y,  , l, i, f, e, ,,  , b, r, i, n, g, i, n, g,  , a, b, u, n, d, a, n, c, e,  , a, n, d,  , j, o, y, .,  , I,  , a, m,  , a,  , m, a, g, n, e, t,  , f, o, r,  , f, i, n, a, n, c, i, a, l,  , s, u, c, c, e, s, s, .'}\n"
          ]
        }
      ]
    },
    {
      "cell_type": "code",
      "source": [
        "# Example tweet to analyze\n",
        "tweet2 = \"Those Hours in front of the charts will soon bring you a fortune\""
      ],
      "metadata": {
        "id": "vGfhtau0WQs1"
      },
      "execution_count": 68,
      "outputs": []
    },
    {
      "cell_type": "code",
      "source": [
        "def analyze_and_explain(tweet2, top_n=3):\n",
        "    sentiment_probs = finbert_predict(tweet2)\n",
        "    sentiment_index = sentiment_probs.argmax(axis=1)[0]\n",
        "    sentiments = ['Negative', 'Neutral', 'Positive']\n",
        "    sentiment = sentiments[sentiment_index]\n",
        "\n",
        "    explanation = f\"Key terms influencing sentiment: {', '.join(tweet2)}\"\n",
        "\n",
        "    return {\n",
        "        \"Tweet\": tweet2,\n",
        "        \"Sentiment\": sentiment,\n",
        "        \"Explanation\": explanation\n",
        "    }\n",
        "\n",
        "# Example Usage\n",
        "result = analyze_and_explain(tweet2)\n",
        "print(result)\n"
      ],
      "metadata": {
        "colab": {
          "base_uri": "https://localhost:8080/"
        },
        "id": "sFoigbsTWgxf",
        "outputId": "c6749de8-9480-43ad-ec3e-bdaee731cbe5"
      },
      "execution_count": 72,
      "outputs": [
        {
          "output_type": "stream",
          "name": "stdout",
          "text": [
            "Predictions for texts: Those Hours in front of the charts will soon bring you a fortune\n",
            "[[{'label': 'Neutral', 'score': 0.9999929666519165}, {'label': 'Positive', 'score': 2.8017070690111723e-06}, {'label': 'Negative', 'score': 4.22753646489582e-06}]]\n",
            "Extracted scores:\n",
            "[[9.99992967e-01 2.80170707e-06 4.22753646e-06]]\n",
            "{'Tweet': 'Those Hours in front of the charts will soon bring you a fortune', 'Sentiment': 'Negative', 'Explanation': 'Key terms influencing sentiment: T, h, o, s, e,  , H, o, u, r, s,  , i, n,  , f, r, o, n, t,  , o, f,  , t, h, e,  , c, h, a, r, t, s,  , w, i, l, l,  , s, o, o, n,  , b, r, i, n, g,  , y, o, u,  , a,  , f, o, r, t, u, n, e'}\n"
          ]
        }
      ]
    },
    {
      "cell_type": "code",
      "source": [
        "# Example tweet to analyze\n",
        "tweet3 = \"Financial conditions have meaningfully tightened\""
      ],
      "metadata": {
        "id": "B-lwurlJXCuj"
      },
      "execution_count": 73,
      "outputs": []
    },
    {
      "cell_type": "code",
      "source": [
        "def analyze_and_explain(tweet3, top_n=3):\n",
        "    sentiment_probs = finbert_predict(tweet3)\n",
        "    sentiment_index = sentiment_probs.argmax(axis=1)[0]\n",
        "    sentiments = ['Negative', 'Neutral', 'Positive']\n",
        "    sentiment = sentiments[sentiment_index]\n",
        "\n",
        "    explanation = f\"Key terms influencing sentiment: {', '.join(tweet3)}\"\n",
        "\n",
        "    return {\n",
        "        \"Tweet\": tweet3,\n",
        "        \"Sentiment\": sentiment,\n",
        "        \"Explanation\": explanation\n",
        "    }\n",
        "\n",
        "# Example Usage\n",
        "result = analyze_and_explain(tweet3)\n",
        "print(result)\n"
      ],
      "metadata": {
        "colab": {
          "base_uri": "https://localhost:8080/"
        },
        "id": "qq5XyGsgXLsu",
        "outputId": "0542c9a8-a316-491e-d3e4-3ac762935c52"
      },
      "execution_count": 74,
      "outputs": [
        {
          "output_type": "stream",
          "name": "stdout",
          "text": [
            "Predictions for texts: Financial conditions have meaningfully tightened\n",
            "[[{'label': 'Neutral', 'score': 0.043096963316202164}, {'label': 'Positive', 'score': 0.04083748534321785}, {'label': 'Negative', 'score': 0.916065514087677}]]\n",
            "Extracted scores:\n",
            "[[0.04309696 0.04083749 0.91606551]]\n",
            "{'Tweet': 'Financial conditions have meaningfully tightened', 'Sentiment': 'Positive', 'Explanation': 'Key terms influencing sentiment: F, i, n, a, n, c, i, a, l,  , c, o, n, d, i, t, i, o, n, s,  , h, a, v, e,  , m, e, a, n, i, n, g, f, u, l, l, y,  , t, i, g, h, t, e, n, e, d'}\n"
          ]
        }
      ]
    }
  ]
}